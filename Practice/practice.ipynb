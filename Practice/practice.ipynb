{
 "cells": [
  {
   "cell_type": "markdown",
   "metadata": {},
   "source": [
    "# What is Jupyter\n",
    "\n",
    "Jupyter notebooks combine software code, computational output, explanatory text, and rich content in a single document. Notebooks allow in-browser editing and execution of code and display computation results. A notebook is saved with an .ipynb extension. The Jupyter Notebook project supports dozens of programming languages, its name reflecting support for Julia (Ju), Python (Py), and R.\n",
    "\n",
    "\n",
    "# What do I need to get started with Jupyter?\n",
    "\n",
    "\n",
    "The Jupyter Notebook project supports many programming languages. We’ll use IPython in this example. It uses the same syntax as Python but provides a more interactive experience. You’ll need the following Python libraries to do the mathematical computations needed for machine learning:\n",
    "\n",
    "- NumPy: For creating and manipulating vectors and matrices.\n",
    "- Pandas: For analyzing data and for data wrangling or munging. Pandas takes data such as a CSV file or a database, and creates from it a Python object called a DataFrame. A `DataFrame` is the central data structure in the Pandas API and is similar to a spreadsheet as follows:\n",
    "  - A `DataFrame` stores data in cells.\n",
    "  - A `DataFrame` has named columns (usually) and numbered rows.\n",
    "- Matplotlib: For visualizing data.\n",
    "- Sklern: For supervised and unsupervised learning. This library provides various tools for model fitting, data preprocessing, model selection, and model evaluation. It has built-in machine learning algorithms and models called estimators. Each estimator can be fitted to some data using its `fit` method.\n",
    "\n",
    "\n",
    "# What are we doing today?\n",
    "\n",
    "Workflow we will be following today\n",
    "\n",
    "![workflow](https://developers.redhat.com/sites/default/files/blog/2021/03/Dzone_ML_flow1.png)\n",
    "\n",
    "\n",
    "First, get python installed.\n",
    "\n",
    "Then run `pip install pandas pyplot matplotlib sklearn`\n",
    "\n",
    "\n",
    "## MANUela Anomaly ML Model\n",
    "\n",
    "Goal: Build a machine lerning model that detects anomalies in sensor vibration data\n",
    "\n",
    "![anomalies](https://raw.githubusercontent.com/sa-mw-dach/manuela/master/docs/images/manuela-anomalies.png)\n",
    "\n",
    "**Outline:**\n",
    "\n",
    "### Read and preview the labeled data\n",
    "- Read data from disk\n",
    "- Preview the raw data\n",
    "- Visualize vibration and anomalies\n",
    "\n",
    "### Data wrangling\n",
    "- Convert time series data into small episodes that can be used for supervised learning.\n",
    "- Explore the new data format\n",
    "\n",
    "### Model training\n",
    "- Prepare the data for modeling, training and testing\n",
    "- Train and validate model\n",
    "\n",
    "### Save the new model\n",
    "- Save model to disk\n",
    "- Commit and push to git\n",
    "\n",
    "###  Model serving during runtime\n",
    "- View the warpper code for the model serving with Seldon\n",
    "\n"
   ]
  },
  {
   "cell_type": "markdown",
   "metadata": {},
   "source": [
    "## Read data from disk"
   ]
  },
  {
   "cell_type": "code",
   "execution_count": 51,
   "metadata": {},
   "outputs": [],
   "source": [
    "import pandas as pd\n",
    "import numpy as np\n",
    "import matplotlib.pyplot as plt\n",
    "\n",
    "df = pd.read_csv('raw-data.csv')\n",
    "df['time'] = pd.to_datetime(df['ts'],unit='ms')\n",
    "df.set_index('time', inplace=True)\n",
    "df.drop(columns=['ts'], inplace=True)"
   ]
  },
  {
   "cell_type": "markdown",
   "metadata": {},
   "source": [
    "### Preview the raw data\n",
    "Quick view on the data. It is a dataframe with a \n",
    "- timeseries, \n",
    "- an id for the pump, \n",
    "- the vibration value\n",
    "- and a label indicating an anmonaly."
   ]
  },
  {
   "cell_type": "code",
   "execution_count": 52,
   "metadata": {},
   "outputs": [
    {
     "data": {
      "text/html": [
       "<div>\n",
       "<style scoped>\n",
       "    .dataframe tbody tr th:only-of-type {\n",
       "        vertical-align: middle;\n",
       "    }\n",
       "\n",
       "    .dataframe tbody tr th {\n",
       "        vertical-align: top;\n",
       "    }\n",
       "\n",
       "    .dataframe thead th {\n",
       "        text-align: right;\n",
       "    }\n",
       "</style>\n",
       "<table border=\"1\" class=\"dataframe\">\n",
       "  <thead>\n",
       "    <tr style=\"text-align: right;\">\n",
       "      <th></th>\n",
       "      <th>id</th>\n",
       "      <th>value</th>\n",
       "      <th>label</th>\n",
       "    </tr>\n",
       "    <tr>\n",
       "      <th>time</th>\n",
       "      <th></th>\n",
       "      <th></th>\n",
       "      <th></th>\n",
       "    </tr>\n",
       "  </thead>\n",
       "  <tbody>\n",
       "    <tr>\n",
       "      <th>2020-04-23 13:19:38.000</th>\n",
       "      <td>pump-2</td>\n",
       "      <td>43.276667</td>\n",
       "      <td>1</td>\n",
       "    </tr>\n",
       "    <tr>\n",
       "      <th>2020-04-23 13:19:39.617</th>\n",
       "      <td>pump-1</td>\n",
       "      <td>15.709151</td>\n",
       "      <td>0</td>\n",
       "    </tr>\n",
       "    <tr>\n",
       "      <th>2020-04-23 13:19:42.999</th>\n",
       "      <td>pump-2</td>\n",
       "      <td>16.214949</td>\n",
       "      <td>0</td>\n",
       "    </tr>\n",
       "    <tr>\n",
       "      <th>2020-04-23 13:19:44.617</th>\n",
       "      <td>pump-1</td>\n",
       "      <td>15.393048</td>\n",
       "      <td>0</td>\n",
       "    </tr>\n",
       "    <tr>\n",
       "      <th>2020-04-23 13:19:47.999</th>\n",
       "      <td>pump-2</td>\n",
       "      <td>14.855999</td>\n",
       "      <td>0</td>\n",
       "    </tr>\n",
       "  </tbody>\n",
       "</table>\n",
       "</div>"
      ],
      "text/plain": [
       "                             id      value  label\n",
       "time                                             \n",
       "2020-04-23 13:19:38.000  pump-2  43.276667      1\n",
       "2020-04-23 13:19:39.617  pump-1  15.709151      0\n",
       "2020-04-23 13:19:42.999  pump-2  16.214949      0\n",
       "2020-04-23 13:19:44.617  pump-1  15.393048      0\n",
       "2020-04-23 13:19:47.999  pump-2  14.855999      0"
      ]
     },
     "execution_count": 52,
     "metadata": {},
     "output_type": "execute_result"
    }
   ],
   "source": [
    "df.tail(5) # ASSIGNMENT 1: List last 10 records of the dataframe!"
   ]
  },
  {
   "cell_type": "markdown",
   "metadata": {},
   "source": [
    "### Visualize data\n",
    "- The uppper graph show a subset of the vibration data.\n",
    "- The lower graph illustrates the anomalies (1 = anomaly, 0 = normal)"
   ]
  },
  {
   "cell_type": "code",
   "execution_count": 53,
   "metadata": {},
   "outputs": [
    {
     "data": {
      "image/png": "[encoded data removed]",
      "text/plain": [
       "<Figure size 1440x720 with 2 Axes>"
      ]
     },
     "metadata": {
      "needs_background": "light"
     },
     "output_type": "display_data"
    }
   ],
   "source": [
    "df21 = df.head(100)\n",
    "df21.plot(figsize=(20,10), fontsize=12,subplots=True, style=[\"-\",\"o\"], title = \"Pump 2 - 100 Values\")\n",
    "plt.show()"
   ]
  },
  {
   "cell_type": "markdown",
   "metadata": {},
   "source": [
    "## Data Wrangling\n",
    "Goal: Convert time series data into small episodes that can be uses for supervised learning."
   ]
  },
  {
   "cell_type": "code",
   "execution_count": 54,
   "metadata": {},
   "outputs": [],
   "source": [
    "#\n",
    "# Few helper functions\n",
    "#\n",
    "\n",
    "# Get list with column names: F1, F2, Fn, L\n",
    "def get_columns(n):\n",
    "    f = []\n",
    "    for x in range(1,n+1):\n",
    "        f.append(\"F\"+str(x))\n",
    "    f.append(\"L\")\n",
    "    return f\n",
    "\n",
    "# Create empty data frame\n",
    "def create_empty_df(n):\n",
    "    d= ([0.]*n)\n",
    "    d.append(0)\n",
    "    dfx = pd.DataFrame([d], columns=get_columns(n))\n",
    "    dfx.drop(dfx.index[0], inplace=True)\n",
    "    return dfx\n",
    "\n",
    "# Create data frame with one row\n",
    "def create_df(vals: list, label: int = 0):\n",
    "    if not isinstance(vals, list):\n",
    "        raise TypeError\n",
    "    #vals.append(label)    \n",
    "    dfx = pd.DataFrame([vals+[label]], columns=get_columns(len(vals)))\n",
    "    return dfx"
   ]
  },
  {
   "cell_type": "markdown",
   "metadata": {},
   "source": [
    "\n",
    "\n",
    "\n",
    "Create a new dataframe: Rows represent the last x (length) value and the label.\n",
    "\n",
    "\n",
    "```\n",
    "| tz | value | label |\n",
    "|----|-------|-------|\n",
    "| .. |   ... |   .   |\n",
    "| 04 |   6.2 |   0   |\n",
    "| 05 |   7.2 |   0   |\n",
    "| 06 |   5.1 |   0   |\n",
    "| 07 |   6.4 |   0   |\n",
    "| 08 |   2.2 |   0   |\n",
    "| 09 |  12.4 |   0   |\n",
    "| 10 |   8.4 |   1   |\n",
    "| .. |   ... |   .   |\n",
    "```\n",
    "\n",
    "Convert to episodes with lenght = 5\n",
    "\n",
    "```\n",
    "\n",
    "| F1 | F2 | F3 | F4 | F5 |  L  |\n",
    "|----|----|----|----|----|---- |\n",
    "| 6.2| 7.2| 5.1| 6.4| 2.2|  0  |\n",
    "| 7.2| 5.1| 6.4| 2.2|12.4|  1  |\n",
    "| 5.1| 6.4| 2.2|12.4| 8.4|  0  |\n",
    "\n",
    "\n",
    "```\n",
    "\n"
   ]
  },
  {
   "cell_type": "code",
   "execution_count": 55,
   "metadata": {},
   "outputs": [
    {
     "name": "stdout",
     "output_type": "stream",
     "text": [
      "Convert data for:  pump-1\n",
      "Convert data for:  pump-2\n"
     ]
    }
   ],
   "source": [
    "length = 5 # ASSIGNMENT 2:  Try different lengths and see what it changes below\n",
    "\n",
    "df_epis = create_empty_df(length)\n",
    "\n",
    "for id in df.id.unique():\n",
    "    print(\"Convert data for: \", id)\n",
    "    \n",
    "    df2 = df.loc[df['id'] == id]\n",
    "\n",
    "    epi = []\n",
    "    for index, row in df2.iterrows():\n",
    "        # print('%6.2f, %d' % (row['value'], row['label']))\n",
    "        epi.append(row['value'])\n",
    "        if len(epi) == length :\n",
    "            df_row = create_df(epi,row['label'] )\n",
    "            df_epis = df_epis.append(df_row, ignore_index=True)\n",
    "            del(epi[0])"
   ]
  },
  {
   "cell_type": "markdown",
   "metadata": {},
   "source": [
    "### Explore the new data format\n",
    "Show episodes of the lengh 5 and the label in the last column"
   ]
  },
  {
   "cell_type": "code",
   "execution_count": 56,
   "metadata": {},
   "outputs": [
    {
     "data": {
      "text/html": [
       "<div>\n",
       "<style scoped>\n",
       "    .dataframe tbody tr th:only-of-type {\n",
       "        vertical-align: middle;\n",
       "    }\n",
       "\n",
       "    .dataframe tbody tr th {\n",
       "        vertical-align: top;\n",
       "    }\n",
       "\n",
       "    .dataframe thead th {\n",
       "        text-align: right;\n",
       "    }\n",
       "</style>\n",
       "<table border=\"1\" class=\"dataframe\">\n",
       "  <thead>\n",
       "    <tr style=\"text-align: right;\">\n",
       "      <th></th>\n",
       "      <th>F1</th>\n",
       "      <th>F2</th>\n",
       "      <th>F3</th>\n",
       "      <th>F4</th>\n",
       "      <th>F5</th>\n",
       "      <th>L</th>\n",
       "    </tr>\n",
       "  </thead>\n",
       "  <tbody>\n",
       "    <tr>\n",
       "      <th>3009</th>\n",
       "      <td>12.804910</td>\n",
       "      <td>14.626118</td>\n",
       "      <td>14.697982</td>\n",
       "      <td>16.386558</td>\n",
       "      <td>17.361092</td>\n",
       "      <td>0</td>\n",
       "    </tr>\n",
       "    <tr>\n",
       "      <th>3010</th>\n",
       "      <td>14.626118</td>\n",
       "      <td>14.697982</td>\n",
       "      <td>16.386558</td>\n",
       "      <td>17.361092</td>\n",
       "      <td>18.764962</td>\n",
       "      <td>0</td>\n",
       "    </tr>\n",
       "    <tr>\n",
       "      <th>3011</th>\n",
       "      <td>14.697982</td>\n",
       "      <td>16.386558</td>\n",
       "      <td>17.361092</td>\n",
       "      <td>18.764962</td>\n",
       "      <td>43.276667</td>\n",
       "      <td>1</td>\n",
       "    </tr>\n",
       "    <tr>\n",
       "      <th>3012</th>\n",
       "      <td>16.386558</td>\n",
       "      <td>17.361092</td>\n",
       "      <td>18.764962</td>\n",
       "      <td>43.276667</td>\n",
       "      <td>16.214949</td>\n",
       "      <td>0</td>\n",
       "    </tr>\n",
       "    <tr>\n",
       "      <th>3013</th>\n",
       "      <td>17.361092</td>\n",
       "      <td>18.764962</td>\n",
       "      <td>43.276667</td>\n",
       "      <td>16.214949</td>\n",
       "      <td>14.855999</td>\n",
       "      <td>0</td>\n",
       "    </tr>\n",
       "  </tbody>\n",
       "</table>\n",
       "</div>"
      ],
      "text/plain": [
       "             F1         F2         F3         F4         F5  L\n",
       "3009  12.804910  14.626118  14.697982  16.386558  17.361092  0\n",
       "3010  14.626118  14.697982  16.386558  17.361092  18.764962  0\n",
       "3011  14.697982  16.386558  17.361092  18.764962  43.276667  1\n",
       "3012  16.386558  17.361092  18.764962  43.276667  16.214949  0\n",
       "3013  17.361092  18.764962  43.276667  16.214949  14.855999  0"
      ]
     },
     "execution_count": 56,
     "metadata": {},
     "output_type": "execute_result"
    }
   ],
   "source": [
    "df_epis.tail(5) #Assignment: What do F1, F2, etc represent?"
   ]
  },
  {
   "cell_type": "markdown",
   "metadata": {},
   "source": [
    "The data is ready for supervised learning"
   ]
  },
  {
   "cell_type": "markdown",
   "metadata": {},
   "source": [
    "## Prepare the data for modeling, training and testing\n",
    "- Identify and separate the feature and target columns\n",
    "- Training and Testing Data Split\n",
    "\n",
    "### Identify feature and target columns\n",
    "Like many ML libraries, sklern requires separted feature (X) and target (Y) columns. "
   ]
  },
  {
   "cell_type": "code",
   "execution_count": 57,
   "metadata": {},
   "outputs": [
    {
     "name": "stdout",
     "output_type": "stream",
     "text": [
      "Feature columns:\n",
      "['F1', 'F2', 'F3', 'F4', 'F5']\n",
      "\n",
      "Target column: L\n",
      "\n",
      "Feature values:\n",
      "          F1         F2         F3         F4         F5\n",
      "0  18.340181  17.647661  16.874933  16.180807  15.407113\n",
      "1  17.647661  16.874933  16.180807  15.407113  15.324012\n",
      "2  16.874933  16.180807  15.407113  15.324012  13.470387\n",
      "3  16.180807  15.407113  15.324012  13.470387  11.702384\n",
      "4  15.407113  15.324012  13.470387  11.702384  11.176102\n"
     ]
    }
   ],
   "source": [
    "# Extract feature columns\n",
    "feature_cols = list(df_epis.columns[:-1])\n",
    "\n",
    "# Extract target column 'label'\n",
    "target_col = df_epis.columns[-1]\n",
    "\n",
    "# Show the list of columns\n",
    "print (\"Feature columns:\\n{}\".format(feature_cols))\n",
    "print (\"\\nTarget column: {}\".format(target_col))\n",
    "\n",
    "# Separate the data into feature data and target data (X_all and y_all, respectively)\n",
    "X_all = df_epis[feature_cols]\n",
    "y_all = df_epis[target_col]\n",
    "\n",
    "# Show the feature information by printing the first five rows\n",
    "print (\"\\nFeature values:\")\n",
    "print (X_all.head())"
   ]
  },
  {
   "cell_type": "markdown",
   "metadata": {},
   "source": [
    "### Training and Testing Data Split\n",
    "It is best best practise to have separate sets for the training and test."
   ]
  },
  {
   "cell_type": "code",
   "execution_count": 58,
   "metadata": {},
   "outputs": [
    {
     "name": "stdout",
     "output_type": "stream",
     "text": [
      "Training set has 30 samples.\n",
      "Testing set has 2984 samples.\n",
      "Anomaly rate of the training set: 3.33%\n",
      "Anomaly rate of the testing set: 2.78%\n"
     ]
    }
   ],
   "source": [
    "from sklearn.model_selection import train_test_split\n",
    "\n",
    "control_test_size = 0.99 # ASSIGNMENT: Tinker with this value(always less than 1 and see what happens)\n",
    "\n",
    "\n",
    "X_train, X_test, y_train, y_test = train_test_split( X_all, y_all, test_size=control_test_size, random_state=1231)\n",
    "\n",
    "\n",
    "# Show the results of the split\n",
    "print (\"Training set has {} samples.\".format(X_train.shape[0]))\n",
    "print (\"Testing set has {} samples.\".format(X_test.shape[0]))\n",
    "\n",
    "# ASSIGNMENT: Why are we printing these two anomaly rates?\n",
    "print (\"Anomaly rate of the training set: {:.2f}%\".format(100 * (y_train == 1).mean()))\n",
    "print (\"Anomaly rate of the testing set: {:.2f}%\".format(100 * (y_test == 1).mean()))"
   ]
  },
  {
   "cell_type": "markdown",
   "metadata": {},
   "source": [
    "### Model Training\n",
    "\n",
    "Let's do a quick model training with a Decision Tree Classifier."
   ]
  },
  {
   "cell_type": "code",
   "execution_count": 59,
   "metadata": {},
   "outputs": [
    {
     "name": "stdout",
     "output_type": "stream",
     "text": [
      "Accuracy score for the trained model: 0.9574396783.\n"
     ]
    }
   ],
   "source": [
    "# from sklearn import DecisionTreeClassifier\n",
    "from sklearn.tree import DecisionTreeClassifier\n",
    "from sklearn.metrics import accuracy_score\n",
    "\n",
    "my_random_seed = 43\n",
    "\n",
    "# Initialize the DecisionTreeClassifier\n",
    "model = DecisionTreeClassifier(random_state=my_random_seed)\n",
    "\n",
    "# train the classifier\n",
    "model.fit(X_train, y_train)\n",
    "\n",
    "# Predict with the test data\n",
    "y_predict = model.predict(X_test)\n",
    "\n",
    "# Determine the accuracy score\n",
    "accuracy_score = accuracy_score(y_test, y_predict)\n",
    "\n",
    "print (\"Accuracy score for the trained model: {:.10f}.\".format(accuracy_score))"
   ]
  },
  {
   "cell_type": "markdown",
   "metadata": {},
   "source": [
    "... the accuracy is pretty good.\n",
    "\n",
    "\n",
    "### Save model to disk\n",
    "- Save the model\n",
    "- Load the model again and check that it works"
   ]
  },
  {
   "cell_type": "code",
   "execution_count": 60,
   "metadata": {},
   "outputs": [
    {
     "name": "stdout",
     "output_type": "stream",
     "text": [
      "Score: 0.9574396782841823\n"
     ]
    }
   ],
   "source": [
    "from joblib import dump, load\n",
    "\n",
    "filename = 'model.joblib'\n",
    "dump(model, open(filename, 'wb'))\n",
    "\n",
    "# Validate that the model can be loaded\n",
    "\n",
    "# load the model from disk\n",
    "loaded_model = load(open(filename, 'rb'))\n",
    "result = loaded_model.score(X_test, y_test) # ASSIGNMENT: Where does X_test and y_test come from? Think what can you use instead?\n",
    "print(\"Score:\", result)"
   ]
  },
  {
   "cell_type": "markdown",
   "metadata": {},
   "source": [
    "### Commit the new model to git\n",
    "The new model is saved in git so we can reuse it!\n"
   ]
  }
 ],
 "metadata": {
  "kernelspec": {
   "display_name": "Python 3",
   "language": "python",
   "name": "python3"
  },
  "language_info": {
   "codemirror_mode": {
    "name": "ipython",
    "version": 3
   },
   "file_extension": ".py",
   "mimetype": "text/x-python",
   "name": "python",
   "nbconvert_exporter": "python",
   "pygments_lexer": "ipython3",
   "version": "3.8.10"
  }
 },
 "nbformat": 4,
 "nbformat_minor": 2
}
